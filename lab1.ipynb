{
  "nbformat": 4,
  "nbformat_minor": 0,
  "metadata": {
    "colab": {
      "name": "lab1.ipynb",
      "provenance": [],
      "collapsed_sections": [],
      "authorship_tag": "ABX9TyPVvxSa4Rq1+f9AtH2LCsX1",
      "include_colab_link": true
    },
    "kernelspec": {
      "name": "python3",
      "display_name": "Python 3"
    },
    "language_info": {
      "name": "python"
    }
  },
  "cells": [
    {
      "cell_type": "markdown",
      "metadata": {
        "id": "view-in-github",
        "colab_type": "text"
      },
      "source": [
        "<a href=\"https://colab.research.google.com/github/lapy113/ML-Lab/blob/main/lab1.ipynb\" target=\"_parent\"><img src=\"https://colab.research.google.com/assets/colab-badge.svg\" alt=\"Open In Colab\"/></a>"
      ]
    },
    {
      "cell_type": "markdown",
      "metadata": {
        "id": "DRRT_NHysoY1"
      },
      "source": [
        "#Question 1"
      ]
    },
    {
      "cell_type": "code",
      "metadata": {
        "id": "PvZN7yx7ZRCF"
      },
      "source": [
        ""
      ],
      "execution_count": null,
      "outputs": []
    },
    {
      "cell_type": "code",
      "metadata": {
        "id": "MOMjcbfLFqdr"
      },
      "source": [
        "import numpy as np\n",
        "import pandas as pd\n",
        "from google.colab import files\n",
        "from google.colab import drive"
      ],
      "execution_count": null,
      "outputs": []
    },
    {
      "cell_type": "code",
      "metadata": {
        "colab": {
          "base_uri": "https://localhost:8080/"
        },
        "id": "u2IICyrhkqwy",
        "outputId": "df0c31fe-8cb4-4c62-f2df-2ff647baf155"
      },
      "source": [
        "arr=np.zeros(10)\n",
        "print(arr)\n",
        "arr1=np.ones(10)\n",
        "print(arr1)\n",
        "arr2=np.ones(10)*5\n",
        "print(arr2)"
      ],
      "execution_count": null,
      "outputs": [
        {
          "output_type": "stream",
          "text": [
            "[0. 0. 0. 0. 0. 0. 0. 0. 0. 0.]\n",
            "[1. 1. 1. 1. 1. 1. 1. 1. 1. 1.]\n",
            "[5. 5. 5. 5. 5. 5. 5. 5. 5. 5.]\n"
          ],
          "name": "stdout"
        }
      ]
    },
    {
      "cell_type": "code",
      "metadata": {
        "colab": {
          "base_uri": "https://localhost:8080/"
        },
        "id": "5pJ6WuqWf40e",
        "outputId": "7dbaf4c2-8a68-4d7b-b928-d0772fd75131"
      },
      "source": [
        "arr = np.array([i for i in range(10,51) if i%2==0])\n",
        "arr"
      ],
      "execution_count": null,
      "outputs": [
        {
          "output_type": "execute_result",
          "data": {
            "text/plain": [
              "array([10, 12, 14, 16, 18, 20, 22, 24, 26, 28, 30, 32, 34, 36, 38, 40, 42,\n",
              "       44, 46, 48, 50])"
            ]
          },
          "metadata": {
            "tags": []
          },
          "execution_count": 3
        }
      ]
    },
    {
      "cell_type": "code",
      "metadata": {
        "colab": {
          "base_uri": "https://localhost:8080/"
        },
        "id": "kG7Hn1-AlTYA",
        "outputId": "44268472-0ac1-4db2-fe69-d29d068ba9b1"
      },
      "source": [
        "num = np.random.uniform(0,1,1)\n",
        "num"
      ],
      "execution_count": null,
      "outputs": [
        {
          "output_type": "execute_result",
          "data": {
            "text/plain": [
              "array([0.0360275])"
            ]
          },
          "metadata": {
            "tags": []
          },
          "execution_count": 4
        }
      ]
    },
    {
      "cell_type": "code",
      "metadata": {
        "colab": {
          "base_uri": "https://localhost:8080/"
        },
        "id": "7nZozpqZs3aK",
        "outputId": "5d76038a-6c58-4f75-98fe-a43b78691bad"
      },
      "source": [
        "x = np.random.rand(3,4)\n",
        "x\n",
        "f_name = 'matrix.txt'\n",
        "np.savetxt(f_name,x)\n",
        "y = np.loadtxt(f_name)\n",
        "print ('[+] File Loaded - ',f_name)\n",
        "y"
      ],
      "execution_count": null,
      "outputs": [
        {
          "output_type": "stream",
          "text": [
            "[+] File Loaded -  matrix.txt\n"
          ],
          "name": "stdout"
        },
        {
          "output_type": "execute_result",
          "data": {
            "text/plain": [
              "array([[0.48302703, 0.39692429, 0.78741811, 0.72076931],\n",
              "       [0.70344381, 0.01830295, 0.0866414 , 0.05295445],\n",
              "       [0.65818554, 0.46210358, 0.98290954, 0.15824991]])"
            ]
          },
          "metadata": {
            "tags": []
          },
          "execution_count": 5
        }
      ]
    },
    {
      "cell_type": "markdown",
      "metadata": {
        "id": "JQ9Gwhn_V3N4"
      },
      "source": [
        "#2nd Question"
      ]
    },
    {
      "cell_type": "code",
      "metadata": {
        "colab": {
          "base_uri": "https://localhost:8080/"
        },
        "id": "T1ZanA_A0fUb",
        "outputId": "ae0480fa-b1a6-4763-ac14-e1b2415d41c8"
      },
      "source": [
        "import matplotlib.image as img\n",
        "\n",
        "\n",
        "image_matrix = img.imread('dog.jpg')\n",
        "print(image_matrix.shape)\n",
        "#convert into 2D\n",
        "image_matrix = image_matrix.reshape(image_matrix.shape[0],-1)\n",
        "\n",
        "df = pd.DataFrame(image_matrix)\n",
        "\n",
        "print(df.tail(5))\n",
        "df.to_csv('dog_csv',index = False)\n",
        "rows = len(df)\n",
        "print(rows)\n",
        "cols = len(df.columns)\n",
        "\n",
        "df_read = pd.read_csv('dog_csv', nrows = rows - 1, usecols = range(cols - 1))\n",
        "print(df_read.tail(5))\n"
      ],
      "execution_count": null,
      "outputs": [
        {
          "output_type": "stream",
          "text": [
            "(4160, 3120, 3)\n",
            "      0     1     2     3     4     5     ...  9354  9355  9356  9357  9358  9359\n",
            "4155    56    40    41    55    39    40  ...   130   136   134   128   134   132\n",
            "4156    57    41    42    55    39    40  ...   122   128   126   132   138   136\n",
            "4157    56    40    41    56    40    41  ...   134   140   138   133   139   137\n",
            "4158    58    42    43    58    42    43  ...   143   149   147   134   140   138\n",
            "4159    60    44    45    61    45    46  ...   128   134   132   139   145   143\n",
            "\n",
            "[5 rows x 9360 columns]\n",
            "4160\n",
            "       0   1   2   3   4   5   6  ...  9352  9353  9354  9355  9356  9357  9358\n",
            "4154  55  39  40  54  38  39  55  ...   150   148   147   153   151   145   151\n",
            "4155  56  40  41  55  39  40  55  ...   134   132   130   136   134   128   134\n",
            "4156  57  41  42  55  39  40  56  ...   127   125   122   128   126   132   138\n",
            "4157  56  40  41  56  40  41  57  ...   135   133   134   140   138   133   139\n",
            "4158  58  42  43  58  42  43  60  ...   147   145   143   149   147   134   140\n",
            "\n",
            "[5 rows x 9359 columns]\n"
          ],
          "name": "stdout"
        }
      ]
    },
    {
      "cell_type": "code",
      "metadata": {
        "colab": {
          "base_uri": "https://localhost:8080/"
        },
        "id": "fN7zgvzyRDrG",
        "outputId": "2e146edd-7acf-402d-925b-7fb6183b7ec2"
      },
      "source": [
        "from datetime import date\n",
        "today = pd.to_datetime(date.today()).date()\n",
        "print(today)"
      ],
      "execution_count": null,
      "outputs": [
        {
          "output_type": "stream",
          "text": [
            "2021-08-10\n"
          ],
          "name": "stdout"
        }
      ]
    },
    {
      "cell_type": "markdown",
      "metadata": {
        "id": "1AekVIuKSld4"
      },
      "source": [
        "# 3rd Question"
      ]
    },
    {
      "cell_type": "code",
      "metadata": {
        "colab": {
          "base_uri": "https://localhost:8080/"
        },
        "id": "y7jdnAhTSotj",
        "outputId": "e7ab42c5-0d12-43b4-c0fd-aec902e21077"
      },
      "source": [
        "year=int(input(\"year:\"))\n",
        "print()\n",
        "month=int(input(\"month:\"))\n",
        "print()\n",
        "day=int(input(\"day:\"))\n",
        "\n",
        "dob = date(year,month,day)\n",
        "\n",
        "today = date.today()\n",
        "age = today.year - dob.year - ((today.month,today.day)<(dob.month,dob.day))\n",
        "print(\"your age is : \",age)"
      ],
      "execution_count": null,
      "outputs": [
        {
          "output_type": "stream",
          "text": [
            "year:2000\n",
            "\n",
            "month:4\n",
            "\n",
            "day:23\n",
            "your age is :  21\n"
          ],
          "name": "stdout"
        }
      ]
    }
  ]
}